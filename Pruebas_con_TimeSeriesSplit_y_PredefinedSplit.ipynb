{
  "nbformat": 4,
  "nbformat_minor": 0,
  "metadata": {
    "colab": {
      "provenance": []
    },
    "kernelspec": {
      "name": "python3",
      "display_name": "Python 3"
    },
    "language_info": {
      "name": "python"
    }
  },
  "cells": [
    {
      "cell_type": "code",
      "execution_count": 18,
      "metadata": {
        "id": "pu-sWMBi2lA0"
      },
      "outputs": [],
      "source": [
        "import pandas as pd\n",
        "from sklearn.model_selection import train_test_split\n",
        "from sklearn.model_selection import PredefinedSplit\n",
        "from sklearn.model_selection import TimeSeriesSplit\n",
        "from sklearn.model_selection import GridSearchCV\n",
        "from sklearn.tree import DecisionTreeRegressor"
      ]
    },
    {
      "cell_type": "code",
      "source": [
        "# Cargar los datos\n",
        "wind = pd.read_csv('wind_ava.csv.gz', compression='gzip')\n",
        "\n",
        "# Importante!! Recordar quitar las columnas que no sirven."
      ],
      "metadata": {
        "id": "cUxIsBcl69EF"
      },
      "execution_count": 3,
      "outputs": []
    },
    {
      "cell_type": "code",
      "source": [
        "# Partición en train-test (outer)\n",
        "# Importante!! No hacemos shuffle.\n",
        "# Importante!! El test no lo usamos hasta el final del todo.\n",
        "train, test = train_test_split(wind, test_size=1000, shuffle=False)"
      ],
      "metadata": {
        "id": "VsFXLk5f7B_y"
      },
      "execution_count": 4,
      "outputs": []
    },
    {
      "cell_type": "code",
      "source": [
        "# Podemos verificar que los datos siguen ordenados.\n",
        "print(f\"Fechas de train: {train.iloc[0].datetime} - {train.iloc[-1].datetime}\")\n",
        "print(f\"Fechas de test: {test.iloc[0].datetime} - {test.iloc[-1].datetime}\")"
      ],
      "metadata": {
        "colab": {
          "base_uri": "https://localhost:8080/"
        },
        "id": "DygBGz7y7UeG",
        "outputId": "439cc979-36ae-460d-d7cc-38e0fac166db"
      },
      "execution_count": 6,
      "outputs": [
        {
          "output_type": "stream",
          "name": "stdout",
          "text": [
            "Fechas de train: 2005-01-02 18:00:00 - 2008-01-30 06:00:00\n",
            "Fechas de test: 2008-01-30 12:00:00 - 2009-12-31 18:00:00\n"
          ]
        }
      ]
    },
    {
      "cell_type": "code",
      "source": [
        "# Vamos a separar X (predictores) de y (variable a predecir)\n",
        "X_train = train.drop(['datetime', 'energy'], axis='columns')\n",
        "y_train = train[['energy']]"
      ],
      "metadata": {
        "id": "Yp9CFL2cAVwo"
      },
      "execution_count": 14,
      "outputs": []
    },
    {
      "cell_type": "code",
      "source": [
        "# Vemos cómo quedaría una partición usando TimeSeriesSplit\n",
        "tss = TimeSeriesSplit(n_splits=3)\n",
        "\n",
        "# Importante!! Esto solo lo hacemos aquí, usando GridSearchCV nos lo ahorramos\n",
        "for k, data in enumerate(tss.split(X_train, y_train)):\n",
        "  cv_train, cv_val = data\n",
        "  print(f\"En la iteración {k+1}, los índices son:\")\n",
        "  print(f\"  Train: {cv_train[0]} - {cv_train[-1]}\")\n",
        "  print(f\"  Val: {cv_val[0]} - {cv_val[-1]}\")"
      ],
      "metadata": {
        "colab": {
          "base_uri": "https://localhost:8080/"
        },
        "id": "BfrGx97o7eT7",
        "outputId": "079efc14-bdde-4740-bf8b-efdd085f02b4"
      },
      "execution_count": 15,
      "outputs": [
        {
          "output_type": "stream",
          "name": "stdout",
          "text": [
            "En la iteración 1, los índices son:\n",
            "  Train: 0 - 936\n",
            "  Val: 937 - 1873\n",
            "En la iteración 2, los índices son:\n",
            "  Train: 0 - 1873\n",
            "  Val: 1874 - 2810\n",
            "En la iteración 3, los índices son:\n",
            "  Train: 0 - 2810\n",
            "  Val: 2811 - 3747\n"
          ]
        }
      ]
    },
    {
      "cell_type": "code",
      "source": [
        "# Vemos cómo quedaría una partición usando PredefinedSplit\n",
        "# 70 % train (valor -1) y 30 % test (valor 0)\n",
        "ix = [-1] * round(len(X_train) * 0.7) + [0] * round(len(X_train) * 0.3)\n",
        "ps = PredefinedSplit(ix)\n",
        "\n",
        "# Importante!! Esto solo lo hacemos aquí, usando GridSearchCV nos lo ahorramos\n",
        "for k, data in enumerate(ps.split(X_train, y_train)):\n",
        "  cv_train, cv_val = data\n",
        "  print(f\"En la iteración {k+1}, los índices son:\")\n",
        "  print(f\"  Train: {cv_train[0]} - {cv_train[-1]}\")\n",
        "  print(f\"  Val: {cv_val[0]} - {cv_val[-1]}\")"
      ],
      "metadata": {
        "colab": {
          "base_uri": "https://localhost:8080/"
        },
        "id": "zlInzLwX7_Rr",
        "outputId": "e1cf9ae5-74f0-4d68-9743-5966cf08ae3b"
      },
      "execution_count": 16,
      "outputs": [
        {
          "output_type": "stream",
          "name": "stdout",
          "text": [
            "En la iteración 1, los índices son:\n",
            "  Train: 0 - 2623\n",
            "  Val: 2624 - 3747\n"
          ]
        }
      ]
    },
    {
      "cell_type": "code",
      "source": [
        "# Hacemos una prueba rápida de GridSearchCV\n",
        "# (Por ejemplo, usando TimeSeriesSplit)\n",
        "search = GridSearchCV(\n",
        "    # Probar varios modelos, cuidado, ¡algunos pueden necesitar normalización!\n",
        "    estimator=DecisionTreeRegressor(),\n",
        "    # ¡Debería haber más hiperparámetros a probar!\n",
        "    param_grid={'max_depth': [2, 5, 10]},\n",
        "    # Recordemos que era un TimeSeriesSplit con 3 folds.\n",
        "    cv=tss\n",
        ")\n",
        "\n",
        "# Entrenamos los modelos (comparamos las diferentes alternativas usando HPO)\n",
        "search.fit(X_train, y_train)\n",
        "\n",
        "# Vemos el mejor modelo\n",
        "search.best_estimator_"
      ],
      "metadata": {
        "colab": {
          "base_uri": "https://localhost:8080/",
          "height": 75
        },
        "id": "uOnNhoijB-gy",
        "outputId": "f56cce26-a0be-4863-ad02-407719758507"
      },
      "execution_count": 21,
      "outputs": [
        {
          "output_type": "execute_result",
          "data": {
            "text/plain": [
              "DecisionTreeRegressor(max_depth=5)"
            ],
            "text/html": [
              "<style>#sk-container-id-1 {color: black;background-color: white;}#sk-container-id-1 pre{padding: 0;}#sk-container-id-1 div.sk-toggleable {background-color: white;}#sk-container-id-1 label.sk-toggleable__label {cursor: pointer;display: block;width: 100%;margin-bottom: 0;padding: 0.3em;box-sizing: border-box;text-align: center;}#sk-container-id-1 label.sk-toggleable__label-arrow:before {content: \"▸\";float: left;margin-right: 0.25em;color: #696969;}#sk-container-id-1 label.sk-toggleable__label-arrow:hover:before {color: black;}#sk-container-id-1 div.sk-estimator:hover label.sk-toggleable__label-arrow:before {color: black;}#sk-container-id-1 div.sk-toggleable__content {max-height: 0;max-width: 0;overflow: hidden;text-align: left;background-color: #f0f8ff;}#sk-container-id-1 div.sk-toggleable__content pre {margin: 0.2em;color: black;border-radius: 0.25em;background-color: #f0f8ff;}#sk-container-id-1 input.sk-toggleable__control:checked~div.sk-toggleable__content {max-height: 200px;max-width: 100%;overflow: auto;}#sk-container-id-1 input.sk-toggleable__control:checked~label.sk-toggleable__label-arrow:before {content: \"▾\";}#sk-container-id-1 div.sk-estimator input.sk-toggleable__control:checked~label.sk-toggleable__label {background-color: #d4ebff;}#sk-container-id-1 div.sk-label input.sk-toggleable__control:checked~label.sk-toggleable__label {background-color: #d4ebff;}#sk-container-id-1 input.sk-hidden--visually {border: 0;clip: rect(1px 1px 1px 1px);clip: rect(1px, 1px, 1px, 1px);height: 1px;margin: -1px;overflow: hidden;padding: 0;position: absolute;width: 1px;}#sk-container-id-1 div.sk-estimator {font-family: monospace;background-color: #f0f8ff;border: 1px dotted black;border-radius: 0.25em;box-sizing: border-box;margin-bottom: 0.5em;}#sk-container-id-1 div.sk-estimator:hover {background-color: #d4ebff;}#sk-container-id-1 div.sk-parallel-item::after {content: \"\";width: 100%;border-bottom: 1px solid gray;flex-grow: 1;}#sk-container-id-1 div.sk-label:hover label.sk-toggleable__label {background-color: #d4ebff;}#sk-container-id-1 div.sk-serial::before {content: \"\";position: absolute;border-left: 1px solid gray;box-sizing: border-box;top: 0;bottom: 0;left: 50%;z-index: 0;}#sk-container-id-1 div.sk-serial {display: flex;flex-direction: column;align-items: center;background-color: white;padding-right: 0.2em;padding-left: 0.2em;position: relative;}#sk-container-id-1 div.sk-item {position: relative;z-index: 1;}#sk-container-id-1 div.sk-parallel {display: flex;align-items: stretch;justify-content: center;background-color: white;position: relative;}#sk-container-id-1 div.sk-item::before, #sk-container-id-1 div.sk-parallel-item::before {content: \"\";position: absolute;border-left: 1px solid gray;box-sizing: border-box;top: 0;bottom: 0;left: 50%;z-index: -1;}#sk-container-id-1 div.sk-parallel-item {display: flex;flex-direction: column;z-index: 1;position: relative;background-color: white;}#sk-container-id-1 div.sk-parallel-item:first-child::after {align-self: flex-end;width: 50%;}#sk-container-id-1 div.sk-parallel-item:last-child::after {align-self: flex-start;width: 50%;}#sk-container-id-1 div.sk-parallel-item:only-child::after {width: 0;}#sk-container-id-1 div.sk-dashed-wrapped {border: 1px dashed gray;margin: 0 0.4em 0.5em 0.4em;box-sizing: border-box;padding-bottom: 0.4em;background-color: white;}#sk-container-id-1 div.sk-label label {font-family: monospace;font-weight: bold;display: inline-block;line-height: 1.2em;}#sk-container-id-1 div.sk-label-container {text-align: center;}#sk-container-id-1 div.sk-container {/* jupyter's `normalize.less` sets `[hidden] { display: none; }` but bootstrap.min.css set `[hidden] { display: none !important; }` so we also need the `!important` here to be able to override the default hidden behavior on the sphinx rendered scikit-learn.org. See: https://github.com/scikit-learn/scikit-learn/issues/21755 */display: inline-block !important;position: relative;}#sk-container-id-1 div.sk-text-repr-fallback {display: none;}</style><div id=\"sk-container-id-1\" class=\"sk-top-container\"><div class=\"sk-text-repr-fallback\"><pre>DecisionTreeRegressor(max_depth=5)</pre><b>In a Jupyter environment, please rerun this cell to show the HTML representation or trust the notebook. <br />On GitHub, the HTML representation is unable to render, please try loading this page with nbviewer.org.</b></div><div class=\"sk-container\" hidden><div class=\"sk-item\"><div class=\"sk-estimator sk-toggleable\"><input class=\"sk-toggleable__control sk-hidden--visually\" id=\"sk-estimator-id-1\" type=\"checkbox\" checked><label for=\"sk-estimator-id-1\" class=\"sk-toggleable__label sk-toggleable__label-arrow\">DecisionTreeRegressor</label><div class=\"sk-toggleable__content\"><pre>DecisionTreeRegressor(max_depth=5)</pre></div></div></div></div></div>"
            ]
          },
          "metadata": {},
          "execution_count": 21
        }
      ]
    },
    {
      "cell_type": "code",
      "source": [],
      "metadata": {
        "id": "psODY_MHDgJt"
      },
      "execution_count": null,
      "outputs": []
    }
  ]
}